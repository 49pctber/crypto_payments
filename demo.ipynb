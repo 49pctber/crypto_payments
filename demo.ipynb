{
 "cells": [
  {
   "cell_type": "code",
   "execution_count": 1,
   "source": [
    "from AddressMonitor import AddressMonitor\r\n",
    "from Invoice import Invoice"
   ],
   "outputs": [],
   "metadata": {}
  },
  {
   "cell_type": "code",
   "execution_count": 5,
   "source": [
    "fname = 'monitor.json' # contains json object with addresses to monitor\r\n",
    "invoice = Invoice(0.50) # Create an invoice for 50 cents\r\n",
    "am = AddressMonitor(fname)\r\n",
    "rx = am.checkForPayment(invoice) # check for payments\r\n",
    "\r\n",
    "if rx:\r\n",
    "    print(\"Payment received!\")\r\n",
    "else:\r\n",
    "    print(\"Payment not received. :(\")"
   ],
   "outputs": [
    {
     "output_type": "stream",
     "name": "stdout",
     "text": [
      "Checking cardano-testnet for payment...\n",
      "  Failure 0/406504 (addr_test1qracaw42fq9qwqgymwha57s95pwuv809x8mzdrsywyzmc57hysf5s5cp5h3rgjnta9wjtjasmt0r3e6n5scr8nhuaxvq68wyft)\n",
      "Checking bitcoin-mainnet for payment...\n",
      "  Failure 0/1351 (bc1q0v428dnu8vr5d2q0tnsz0ppxgrcx96x8kdusly)\n",
      "Payment not received. :(\n"
     ]
    }
   ],
   "metadata": {}
  },
  {
   "cell_type": "code",
   "execution_count": null,
   "source": [],
   "outputs": [],
   "metadata": {}
  }
 ],
 "metadata": {
  "orig_nbformat": 4,
  "language_info": {
   "name": "python",
   "version": "3.8.10",
   "mimetype": "text/x-python",
   "codemirror_mode": {
    "name": "ipython",
    "version": 3
   },
   "pygments_lexer": "ipython3",
   "nbconvert_exporter": "python",
   "file_extension": ".py"
  },
  "kernelspec": {
   "name": "python3",
   "display_name": "Python 3.8.10 64-bit"
  },
  "interpreter": {
   "hash": "c94125e85688c730478cf0607541c3a25dbdb31992d042305aeb50d5df03dacf"
  }
 },
 "nbformat": 4,
 "nbformat_minor": 2
}