{
 "cells": [
  {
   "cell_type": "code",
   "execution_count": 1,
   "source": [
    "from AddressMonitor import AddressMonitor"
   ],
   "outputs": [],
   "metadata": {}
  },
  {
   "cell_type": "code",
   "execution_count": 4,
   "source": [
    "fname = 'monitor.json'\r\n",
    "am = AddressMonitor(fname)\r\n",
    "am.checkForPayment()"
   ],
   "outputs": [
    {
     "output_type": "stream",
     "name": "stdout",
     "text": [
      "False 0 (cardano-testnet addr_test1qracaw42fq9qwqgymwha57s95pwuv809x8mzdrsywyzmc57hysf5s5cp5h3rgjnta9wjtjasmt0r3e6n5scr8nhuaxvq68wyft)\n",
      "False 0 (bitcoin-mainnet bc1q0v428dnu8vr5d2q0tnsz0ppxgrcx96x8kdusly)\n"
     ]
    },
    {
     "output_type": "execute_result",
     "data": {
      "text/plain": [
       "False"
      ]
     },
     "metadata": {},
     "execution_count": 4
    }
   ],
   "metadata": {}
  },
  {
   "cell_type": "code",
   "execution_count": null,
   "source": [],
   "outputs": [],
   "metadata": {}
  }
 ],
 "metadata": {
  "orig_nbformat": 4,
  "language_info": {
   "name": "python",
   "version": "3.8.10",
   "mimetype": "text/x-python",
   "codemirror_mode": {
    "name": "ipython",
    "version": 3
   },
   "pygments_lexer": "ipython3",
   "nbconvert_exporter": "python",
   "file_extension": ".py"
  },
  "kernelspec": {
   "name": "python3",
   "display_name": "Python 3.8.10 64-bit"
  },
  "interpreter": {
   "hash": "c94125e85688c730478cf0607541c3a25dbdb31992d042305aeb50d5df03dacf"
  }
 },
 "nbformat": 4,
 "nbformat_minor": 2
}